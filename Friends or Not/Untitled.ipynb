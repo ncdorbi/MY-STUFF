{
 "cells": [
  {
   "cell_type": "code",
   "execution_count": 1,
   "metadata": {
    "collapsed": true
   },
   "outputs": [],
   "source": [
    "import numpy as np\n",
    "import pandas as pd\n",
    "import seaborn as sns\n",
    "import matplotlib.pyplot as plt\n",
    "%matplotlib inline"
   ]
  },
  {
   "cell_type": "code",
   "execution_count": 2,
   "metadata": {
    "collapsed": true
   },
   "outputs": [],
   "source": [
    "df = pd.read_csv(\"Friend_Training_.csv\")"
   ]
  },
  {
   "cell_type": "code",
   "execution_count": 3,
   "metadata": {},
   "outputs": [
    {
     "data": {
      "text/html": [
       "<div>\n",
       "<style>\n",
       "    .dataframe thead tr:only-child th {\n",
       "        text-align: right;\n",
       "    }\n",
       "\n",
       "    .dataframe thead th {\n",
       "        text-align: left;\n",
       "    }\n",
       "\n",
       "    .dataframe tbody tr th {\n",
       "        vertical-align: top;\n",
       "    }\n",
       "</style>\n",
       "<table border=\"1\" class=\"dataframe\">\n",
       "  <thead>\n",
       "    <tr style=\"text-align: right;\">\n",
       "      <th></th>\n",
       "      <th>Person_1</th>\n",
       "      <th>Person_2</th>\n",
       "      <th>Friends</th>\n",
       "      <th>Years_Known</th>\n",
       "      <th>Type_Of_Interaction</th>\n",
       "      <th>Duration_Of_Interaction</th>\n",
       "      <th>Moon_Phase</th>\n",
       "    </tr>\n",
       "  </thead>\n",
       "  <tbody>\n",
       "    <tr>\n",
       "      <th>0</th>\n",
       "      <td>Eric</td>\n",
       "      <td>Rachel</td>\n",
       "      <td>True</td>\n",
       "      <td>1.65</td>\n",
       "      <td>Class</td>\n",
       "      <td>0.00</td>\n",
       "      <td>Waxing_Gibbous</td>\n",
       "    </tr>\n",
       "    <tr>\n",
       "      <th>1</th>\n",
       "      <td>Justin</td>\n",
       "      <td>Helen</td>\n",
       "      <td>False</td>\n",
       "      <td>1.94</td>\n",
       "      <td>Over a Meal</td>\n",
       "      <td>7.29</td>\n",
       "      <td>First_Quarter</td>\n",
       "    </tr>\n",
       "    <tr>\n",
       "      <th>2</th>\n",
       "      <td>Austin</td>\n",
       "      <td>Theresa</td>\n",
       "      <td>False</td>\n",
       "      <td>1.28</td>\n",
       "      <td>Over a Meal</td>\n",
       "      <td>6.08</td>\n",
       "      <td>Waxing_Gibbous</td>\n",
       "    </tr>\n",
       "    <tr>\n",
       "      <th>3</th>\n",
       "      <td>Robert</td>\n",
       "      <td>Rebecca</td>\n",
       "      <td>False</td>\n",
       "      <td>0.00</td>\n",
       "      <td>At Work</td>\n",
       "      <td>7.35</td>\n",
       "      <td>Full_Moon</td>\n",
       "    </tr>\n",
       "    <tr>\n",
       "      <th>4</th>\n",
       "      <td>Jesse</td>\n",
       "      <td>Kathleen</td>\n",
       "      <td>True</td>\n",
       "      <td>3.41</td>\n",
       "      <td>Over a Meal</td>\n",
       "      <td>9.82</td>\n",
       "      <td>Waxing_Gibbous</td>\n",
       "    </tr>\n",
       "  </tbody>\n",
       "</table>\n",
       "</div>"
      ],
      "text/plain": [
       "  Person_1  Person_2  Friends  Years_Known Type_Of_Interaction  \\\n",
       "0     Eric    Rachel     True         1.65               Class   \n",
       "1   Justin     Helen    False         1.94         Over a Meal   \n",
       "2   Austin   Theresa    False         1.28         Over a Meal   \n",
       "3   Robert   Rebecca    False         0.00             At Work   \n",
       "4    Jesse  Kathleen     True         3.41         Over a Meal   \n",
       "\n",
       "   Duration_Of_Interaction      Moon_Phase  \n",
       "0                     0.00  Waxing_Gibbous  \n",
       "1                     7.29   First_Quarter  \n",
       "2                     6.08  Waxing_Gibbous  \n",
       "3                     7.35       Full_Moon  \n",
       "4                     9.82  Waxing_Gibbous  "
      ]
     },
     "execution_count": 3,
     "metadata": {},
     "output_type": "execute_result"
    }
   ],
   "source": [
    "df.head()"
   ]
  },
  {
   "cell_type": "code",
   "execution_count": null,
   "metadata": {
    "collapsed": true
   },
   "outputs": [],
   "source": []
  }
 ],
 "metadata": {
  "kernelspec": {
   "display_name": "Python 3",
   "language": "python",
   "name": "python3"
  },
  "language_info": {
   "codemirror_mode": {
    "name": "ipython",
    "version": 3
   },
   "file_extension": ".py",
   "mimetype": "text/x-python",
   "name": "python",
   "nbconvert_exporter": "python",
   "pygments_lexer": "ipython3",
   "version": "3.5.4"
  }
 },
 "nbformat": 4,
 "nbformat_minor": 2
}
