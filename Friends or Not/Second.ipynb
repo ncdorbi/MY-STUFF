{
 "cells": [
  {
   "cell_type": "code",
   "execution_count": 1,
   "metadata": {
    "collapsed": true
   },
   "outputs": [],
   "source": [
    "import pandas as pd\n",
    "import numpy as np"
   ]
  },
  {
   "cell_type": "code",
   "execution_count": 2,
   "metadata": {
    "collapsed": true
   },
   "outputs": [],
   "source": [
    "import seaborn as sns\n",
    "import matplotlib.pyplot as plt\n",
    "%matplotlib inline"
   ]
  },
  {
   "cell_type": "code",
   "execution_count": 6,
   "metadata": {
    "collapsed": true
   },
   "outputs": [],
   "source": [
    "data = pd.read_csv(\"Friend_Training_.csv\")"
   ]
  },
  {
   "cell_type": "code",
   "execution_count": 7,
   "metadata": {},
   "outputs": [
    {
     "data": {
      "text/html": [
       "<div>\n",
       "<style>\n",
       "    .dataframe thead tr:only-child th {\n",
       "        text-align: right;\n",
       "    }\n",
       "\n",
       "    .dataframe thead th {\n",
       "        text-align: left;\n",
       "    }\n",
       "\n",
       "    .dataframe tbody tr th {\n",
       "        vertical-align: top;\n",
       "    }\n",
       "</style>\n",
       "<table border=\"1\" class=\"dataframe\">\n",
       "  <thead>\n",
       "    <tr style=\"text-align: right;\">\n",
       "      <th></th>\n",
       "      <th>Person_1</th>\n",
       "      <th>Person_2</th>\n",
       "      <th>Friends</th>\n",
       "      <th>Years_Known</th>\n",
       "      <th>Type_Of_Interaction</th>\n",
       "      <th>Duration_Of_Interaction</th>\n",
       "      <th>Moon_Phase</th>\n",
       "    </tr>\n",
       "  </thead>\n",
       "  <tbody>\n",
       "    <tr>\n",
       "      <th>0</th>\n",
       "      <td>Eric</td>\n",
       "      <td>Rachel</td>\n",
       "      <td>True</td>\n",
       "      <td>1.65</td>\n",
       "      <td>Class</td>\n",
       "      <td>0.00</td>\n",
       "      <td>Waxing_Gibbous</td>\n",
       "    </tr>\n",
       "    <tr>\n",
       "      <th>1</th>\n",
       "      <td>Justin</td>\n",
       "      <td>Helen</td>\n",
       "      <td>False</td>\n",
       "      <td>1.94</td>\n",
       "      <td>Over a Meal</td>\n",
       "      <td>7.29</td>\n",
       "      <td>First_Quarter</td>\n",
       "    </tr>\n",
       "    <tr>\n",
       "      <th>2</th>\n",
       "      <td>Austin</td>\n",
       "      <td>Theresa</td>\n",
       "      <td>False</td>\n",
       "      <td>1.28</td>\n",
       "      <td>Over a Meal</td>\n",
       "      <td>6.08</td>\n",
       "      <td>Waxing_Gibbous</td>\n",
       "    </tr>\n",
       "    <tr>\n",
       "      <th>3</th>\n",
       "      <td>Robert</td>\n",
       "      <td>Rebecca</td>\n",
       "      <td>False</td>\n",
       "      <td>0.00</td>\n",
       "      <td>At Work</td>\n",
       "      <td>7.35</td>\n",
       "      <td>Full_Moon</td>\n",
       "    </tr>\n",
       "    <tr>\n",
       "      <th>4</th>\n",
       "      <td>Jesse</td>\n",
       "      <td>Kathleen</td>\n",
       "      <td>True</td>\n",
       "      <td>3.41</td>\n",
       "      <td>Over a Meal</td>\n",
       "      <td>9.82</td>\n",
       "      <td>Waxing_Gibbous</td>\n",
       "    </tr>\n",
       "  </tbody>\n",
       "</table>\n",
       "</div>"
      ],
      "text/plain": [
       "  Person_1  Person_2  Friends  Years_Known Type_Of_Interaction  \\\n",
       "0     Eric    Rachel     True         1.65               Class   \n",
       "1   Justin     Helen    False         1.94         Over a Meal   \n",
       "2   Austin   Theresa    False         1.28         Over a Meal   \n",
       "3   Robert   Rebecca    False         0.00             At Work   \n",
       "4    Jesse  Kathleen     True         3.41         Over a Meal   \n",
       "\n",
       "   Duration_Of_Interaction      Moon_Phase  \n",
       "0                     0.00  Waxing_Gibbous  \n",
       "1                     7.29   First_Quarter  \n",
       "2                     6.08  Waxing_Gibbous  \n",
       "3                     7.35       Full_Moon  \n",
       "4                     9.82  Waxing_Gibbous  "
      ]
     },
     "execution_count": 7,
     "metadata": {},
     "output_type": "execute_result"
    }
   ],
   "source": [
    "data.head()"
   ]
  },
  {
   "cell_type": "code",
   "execution_count": 8,
   "metadata": {
    "collapsed": true
   },
   "outputs": [],
   "source": [
    "data_1 = data.drop([\"Person_2\"],axis = 1) #here i needed person1 column so dropped person 2 column\n",
    "data_2 = data.drop([\"Person_1\"],axis = 1) #viceversa as the above line\n",
    "data_1 = data_1.rename(columns = {'Person_1':'Person'}) # now i renamed column so there wont be any problem during concatenation\n",
    "data_2 = data_2.rename(columns = {'Person_2':'Person'})\n",
    "c_data = data_1.append(data_2)            # now i appended the two dataframes on with person1 and one with person2\n",
    "c_data.reset_index(drop = True,inplace = True) # dont forget to reset index while you append dataframes if there is no intension to saperate them again "
   ]
  },
  {
   "cell_type": "code",
   "execution_count": 9,
   "metadata": {},
   "outputs": [
    {
     "data": {
      "text/html": [
       "<div>\n",
       "<style>\n",
       "    .dataframe thead tr:only-child th {\n",
       "        text-align: right;\n",
       "    }\n",
       "\n",
       "    .dataframe thead th {\n",
       "        text-align: left;\n",
       "    }\n",
       "\n",
       "    .dataframe tbody tr th {\n",
       "        vertical-align: top;\n",
       "    }\n",
       "</style>\n",
       "<table border=\"1\" class=\"dataframe\">\n",
       "  <thead>\n",
       "    <tr style=\"text-align: right;\">\n",
       "      <th></th>\n",
       "      <th>Person</th>\n",
       "      <th>Friends</th>\n",
       "      <th>Years_Known</th>\n",
       "      <th>Type_Of_Interaction</th>\n",
       "      <th>Duration_Of_Interaction</th>\n",
       "      <th>Moon_Phase</th>\n",
       "    </tr>\n",
       "  </thead>\n",
       "  <tbody>\n",
       "    <tr>\n",
       "      <th>0</th>\n",
       "      <td>Eric</td>\n",
       "      <td>True</td>\n",
       "      <td>1.65</td>\n",
       "      <td>Class</td>\n",
       "      <td>0.00</td>\n",
       "      <td>Waxing_Gibbous</td>\n",
       "    </tr>\n",
       "    <tr>\n",
       "      <th>1</th>\n",
       "      <td>Justin</td>\n",
       "      <td>False</td>\n",
       "      <td>1.94</td>\n",
       "      <td>Over a Meal</td>\n",
       "      <td>7.29</td>\n",
       "      <td>First_Quarter</td>\n",
       "    </tr>\n",
       "    <tr>\n",
       "      <th>2</th>\n",
       "      <td>Austin</td>\n",
       "      <td>False</td>\n",
       "      <td>1.28</td>\n",
       "      <td>Over a Meal</td>\n",
       "      <td>6.08</td>\n",
       "      <td>Waxing_Gibbous</td>\n",
       "    </tr>\n",
       "    <tr>\n",
       "      <th>3</th>\n",
       "      <td>Robert</td>\n",
       "      <td>False</td>\n",
       "      <td>0.00</td>\n",
       "      <td>At Work</td>\n",
       "      <td>7.35</td>\n",
       "      <td>Full_Moon</td>\n",
       "    </tr>\n",
       "    <tr>\n",
       "      <th>4</th>\n",
       "      <td>Jesse</td>\n",
       "      <td>True</td>\n",
       "      <td>3.41</td>\n",
       "      <td>Over a Meal</td>\n",
       "      <td>9.82</td>\n",
       "      <td>Waxing_Gibbous</td>\n",
       "    </tr>\n",
       "  </tbody>\n",
       "</table>\n",
       "</div>"
      ],
      "text/plain": [
       "   Person  Friends  Years_Known Type_Of_Interaction  Duration_Of_Interaction  \\\n",
       "0    Eric     True         1.65               Class                     0.00   \n",
       "1  Justin    False         1.94         Over a Meal                     7.29   \n",
       "2  Austin    False         1.28         Over a Meal                     6.08   \n",
       "3  Robert    False         0.00             At Work                     7.35   \n",
       "4   Jesse     True         3.41         Over a Meal                     9.82   \n",
       "\n",
       "       Moon_Phase  \n",
       "0  Waxing_Gibbous  \n",
       "1   First_Quarter  \n",
       "2  Waxing_Gibbous  \n",
       "3       Full_Moon  \n",
       "4  Waxing_Gibbous  "
      ]
     },
     "execution_count": 9,
     "metadata": {},
     "output_type": "execute_result"
    }
   ],
   "source": [
    "c_data.head()"
   ]
  },
  {
   "cell_type": "code",
   "execution_count": 10,
   "metadata": {},
   "outputs": [
    {
     "data": {
      "text/html": [
       "<div>\n",
       "<style>\n",
       "    .dataframe thead tr:only-child th {\n",
       "        text-align: right;\n",
       "    }\n",
       "\n",
       "    .dataframe thead th {\n",
       "        text-align: left;\n",
       "    }\n",
       "\n",
       "    .dataframe tbody tr th {\n",
       "        vertical-align: top;\n",
       "    }\n",
       "</style>\n",
       "<table border=\"1\" class=\"dataframe\">\n",
       "  <thead>\n",
       "    <tr style=\"text-align: right;\">\n",
       "      <th></th>\n",
       "      <th>Years_Known</th>\n",
       "      <th>Duration_Of_Interaction</th>\n",
       "    </tr>\n",
       "  </thead>\n",
       "  <tbody>\n",
       "    <tr>\n",
       "      <th>count</th>\n",
       "      <td>109394.000000</td>\n",
       "      <td>109394.000000</td>\n",
       "    </tr>\n",
       "    <tr>\n",
       "      <th>mean</th>\n",
       "      <td>3.316479</td>\n",
       "      <td>10.050735</td>\n",
       "    </tr>\n",
       "    <tr>\n",
       "      <th>std</th>\n",
       "      <td>2.618961</td>\n",
       "      <td>4.908431</td>\n",
       "    </tr>\n",
       "    <tr>\n",
       "      <th>min</th>\n",
       "      <td>0.000000</td>\n",
       "      <td>0.000000</td>\n",
       "    </tr>\n",
       "    <tr>\n",
       "      <th>25%</th>\n",
       "      <td>1.060000</td>\n",
       "      <td>6.630000</td>\n",
       "    </tr>\n",
       "    <tr>\n",
       "      <th>50%</th>\n",
       "      <td>3.060000</td>\n",
       "      <td>9.990000</td>\n",
       "    </tr>\n",
       "    <tr>\n",
       "      <th>75%</th>\n",
       "      <td>5.130000</td>\n",
       "      <td>13.390000</td>\n",
       "    </tr>\n",
       "    <tr>\n",
       "      <th>max</th>\n",
       "      <td>15.260000</td>\n",
       "      <td>30.860000</td>\n",
       "    </tr>\n",
       "  </tbody>\n",
       "</table>\n",
       "</div>"
      ],
      "text/plain": [
       "         Years_Known  Duration_Of_Interaction\n",
       "count  109394.000000            109394.000000\n",
       "mean        3.316479                10.050735\n",
       "std         2.618961                 4.908431\n",
       "min         0.000000                 0.000000\n",
       "25%         1.060000                 6.630000\n",
       "50%         3.060000                 9.990000\n",
       "75%         5.130000                13.390000\n",
       "max        15.260000                30.860000"
      ]
     },
     "execution_count": 10,
     "metadata": {},
     "output_type": "execute_result"
    }
   ],
   "source": [
    "c_data.describe()"
   ]
  },
  {
   "cell_type": "code",
   "execution_count": 18,
   "metadata": {},
   "outputs": [],
   "source": [
    "arr = c_data.Person.unique()"
   ]
  },
  {
   "cell_type": "code",
   "execution_count": 22,
   "metadata": {},
   "outputs": [
    {
     "data": {
      "text/plain": [
       "200"
      ]
     },
     "execution_count": 22,
     "metadata": {},
     "output_type": "execute_result"
    }
   ],
   "source": [
    "len(arr)"
   ]
  },
  {
   "cell_type": "code",
   "execution_count": 56,
   "metadata": {},
   "outputs": [],
   "source": [
    "x = c_data[c_data['Friends'] == True].groupby('Person').Person.count()"
   ]
  },
  {
   "cell_type": "code",
   "execution_count": 58,
   "metadata": {},
   "outputs": [
    {
     "data": {
      "text/plain": [
       "Person\n",
       "Aaron        261\n",
       "Abigail      313\n",
       "Adam         272\n",
       "Alan         299\n",
       "Albert       349\n",
       "Alexander    291\n",
       "Alexis       242\n",
       "Alice        262\n",
       "Amanda       195\n",
       "Amber        263\n",
       "Amy          269\n",
       "Andrea       258\n",
       "Andrew       161\n",
       "Angela       303\n",
       "Ann          308\n",
       "Anna         309\n",
       "Anthony      283\n",
       "Arthur       258\n",
       "Ashley       343\n",
       "Austin       271\n",
       "Name: Person, dtype: int64"
      ]
     },
     "execution_count": 58,
     "metadata": {},
     "output_type": "execute_result"
    }
   ],
   "source": [
    "x.head(20)"
   ]
  },
  {
   "cell_type": "code",
   "execution_count": 59,
   "metadata": {},
   "outputs": [
    {
     "data": {
      "text/html": [
       "<div>\n",
       "<style>\n",
       "    .dataframe thead tr:only-child th {\n",
       "        text-align: right;\n",
       "    }\n",
       "\n",
       "    .dataframe thead th {\n",
       "        text-align: left;\n",
       "    }\n",
       "\n",
       "    .dataframe tbody tr th {\n",
       "        vertical-align: top;\n",
       "    }\n",
       "</style>\n",
       "<table border=\"1\" class=\"dataframe\">\n",
       "  <thead>\n",
       "    <tr style=\"text-align: right;\">\n",
       "      <th></th>\n",
       "      <th>Person_1</th>\n",
       "      <th>Person_2</th>\n",
       "      <th>Friends</th>\n",
       "      <th>Years_Known</th>\n",
       "      <th>Type_Of_Interaction</th>\n",
       "      <th>Duration_Of_Interaction</th>\n",
       "      <th>Moon_Phase</th>\n",
       "    </tr>\n",
       "  </thead>\n",
       "  <tbody>\n",
       "    <tr>\n",
       "      <th>0</th>\n",
       "      <td>Eric</td>\n",
       "      <td>Rachel</td>\n",
       "      <td>True</td>\n",
       "      <td>1.65</td>\n",
       "      <td>Class</td>\n",
       "      <td>0.00</td>\n",
       "      <td>Waxing_Gibbous</td>\n",
       "    </tr>\n",
       "    <tr>\n",
       "      <th>1</th>\n",
       "      <td>Justin</td>\n",
       "      <td>Helen</td>\n",
       "      <td>False</td>\n",
       "      <td>1.94</td>\n",
       "      <td>Over a Meal</td>\n",
       "      <td>7.29</td>\n",
       "      <td>First_Quarter</td>\n",
       "    </tr>\n",
       "    <tr>\n",
       "      <th>2</th>\n",
       "      <td>Austin</td>\n",
       "      <td>Theresa</td>\n",
       "      <td>False</td>\n",
       "      <td>1.28</td>\n",
       "      <td>Over a Meal</td>\n",
       "      <td>6.08</td>\n",
       "      <td>Waxing_Gibbous</td>\n",
       "    </tr>\n",
       "    <tr>\n",
       "      <th>3</th>\n",
       "      <td>Robert</td>\n",
       "      <td>Rebecca</td>\n",
       "      <td>False</td>\n",
       "      <td>0.00</td>\n",
       "      <td>At Work</td>\n",
       "      <td>7.35</td>\n",
       "      <td>Full_Moon</td>\n",
       "    </tr>\n",
       "    <tr>\n",
       "      <th>4</th>\n",
       "      <td>Jesse</td>\n",
       "      <td>Kathleen</td>\n",
       "      <td>True</td>\n",
       "      <td>3.41</td>\n",
       "      <td>Over a Meal</td>\n",
       "      <td>9.82</td>\n",
       "      <td>Waxing_Gibbous</td>\n",
       "    </tr>\n",
       "  </tbody>\n",
       "</table>\n",
       "</div>"
      ],
      "text/plain": [
       "  Person_1  Person_2  Friends  Years_Known Type_Of_Interaction  \\\n",
       "0     Eric    Rachel     True         1.65               Class   \n",
       "1   Justin     Helen    False         1.94         Over a Meal   \n",
       "2   Austin   Theresa    False         1.28         Over a Meal   \n",
       "3   Robert   Rebecca    False         0.00             At Work   \n",
       "4    Jesse  Kathleen     True         3.41         Over a Meal   \n",
       "\n",
       "   Duration_Of_Interaction      Moon_Phase  \n",
       "0                     0.00  Waxing_Gibbous  \n",
       "1                     7.29   First_Quarter  \n",
       "2                     6.08  Waxing_Gibbous  \n",
       "3                     7.35       Full_Moon  \n",
       "4                     9.82  Waxing_Gibbous  "
      ]
     },
     "execution_count": 59,
     "metadata": {},
     "output_type": "execute_result"
    }
   ],
   "source": [
    "data.head()"
   ]
  },
  {
   "cell_type": "code",
   "execution_count": 99,
   "metadata": {},
   "outputs": [],
   "source": [
    "a = data[data['Friends'] == True].groupby('Person_1',sort = False).Person_1.count()"
   ]
  }
 ],
 "metadata": {
  "kernelspec": {
   "display_name": "Python 3",
   "language": "python",
   "name": "python3"
  },
  "language_info": {
   "codemirror_mode": {
    "name": "ipython",
    "version": 3
   },
   "file_extension": ".py",
   "mimetype": "text/x-python",
   "name": "python",
   "nbconvert_exporter": "python",
   "pygments_lexer": "ipython3",
   "version": "3.5.4"
  }
 },
 "nbformat": 4,
 "nbformat_minor": 2
}
