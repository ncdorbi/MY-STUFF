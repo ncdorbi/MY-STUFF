{
 "cells": [
  {
   "cell_type": "code",
   "execution_count": 1,
   "metadata": {
    "collapsed": true
   },
   "outputs": [],
   "source": [
    "import numpy as np\n",
    "import pandas as pd"
   ]
  },
  {
   "cell_type": "code",
   "execution_count": 2,
   "metadata": {
    "collapsed": true
   },
   "outputs": [],
   "source": [
    "import seaborn as sns\n",
    "import matplotlib.pyplot as plt\n",
    "%matplotlib inline"
   ]
  },
  {
   "cell_type": "code",
   "execution_count": 3,
   "metadata": {
    "collapsed": true
   },
   "outputs": [],
   "source": [
    "df = pd.read_csv('train.csv')"
   ]
  },
  {
   "cell_type": "code",
   "execution_count": 4,
   "metadata": {},
   "outputs": [
    {
     "data": {
      "text/html": [
       "<div>\n",
       "<style>\n",
       "    .dataframe thead tr:only-child th {\n",
       "        text-align: right;\n",
       "    }\n",
       "\n",
       "    .dataframe thead th {\n",
       "        text-align: left;\n",
       "    }\n",
       "\n",
       "    .dataframe tbody tr th {\n",
       "        vertical-align: top;\n",
       "    }\n",
       "</style>\n",
       "<table border=\"1\" class=\"dataframe\">\n",
       "  <thead>\n",
       "    <tr style=\"text-align: right;\">\n",
       "      <th></th>\n",
       "      <th>User_ID</th>\n",
       "      <th>Description</th>\n",
       "      <th>Browser_Used</th>\n",
       "      <th>Device_Used</th>\n",
       "      <th>Is_Response</th>\n",
       "    </tr>\n",
       "  </thead>\n",
       "  <tbody>\n",
       "    <tr>\n",
       "      <th>0</th>\n",
       "      <td>id10326</td>\n",
       "      <td>The room was kind of clean but had a VERY stro...</td>\n",
       "      <td>Edge</td>\n",
       "      <td>Mobile</td>\n",
       "      <td>not happy</td>\n",
       "    </tr>\n",
       "    <tr>\n",
       "      <th>1</th>\n",
       "      <td>id10327</td>\n",
       "      <td>I stayed at the Crown Plaza April -- - April -...</td>\n",
       "      <td>Internet Explorer</td>\n",
       "      <td>Mobile</td>\n",
       "      <td>not happy</td>\n",
       "    </tr>\n",
       "    <tr>\n",
       "      <th>2</th>\n",
       "      <td>id10328</td>\n",
       "      <td>I booked this hotel through Hotwire at the low...</td>\n",
       "      <td>Mozilla</td>\n",
       "      <td>Tablet</td>\n",
       "      <td>not happy</td>\n",
       "    </tr>\n",
       "    <tr>\n",
       "      <th>3</th>\n",
       "      <td>id10329</td>\n",
       "      <td>Stayed here with husband and sons on the way t...</td>\n",
       "      <td>InternetExplorer</td>\n",
       "      <td>Desktop</td>\n",
       "      <td>happy</td>\n",
       "    </tr>\n",
       "    <tr>\n",
       "      <th>4</th>\n",
       "      <td>id10330</td>\n",
       "      <td>My girlfriends and I stayed here to celebrate ...</td>\n",
       "      <td>Edge</td>\n",
       "      <td>Tablet</td>\n",
       "      <td>not happy</td>\n",
       "    </tr>\n",
       "  </tbody>\n",
       "</table>\n",
       "</div>"
      ],
      "text/plain": [
       "   User_ID                                        Description  \\\n",
       "0  id10326  The room was kind of clean but had a VERY stro...   \n",
       "1  id10327  I stayed at the Crown Plaza April -- - April -...   \n",
       "2  id10328  I booked this hotel through Hotwire at the low...   \n",
       "3  id10329  Stayed here with husband and sons on the way t...   \n",
       "4  id10330  My girlfriends and I stayed here to celebrate ...   \n",
       "\n",
       "        Browser_Used Device_Used Is_Response  \n",
       "0               Edge      Mobile   not happy  \n",
       "1  Internet Explorer      Mobile   not happy  \n",
       "2            Mozilla      Tablet   not happy  \n",
       "3   InternetExplorer     Desktop       happy  \n",
       "4               Edge      Tablet   not happy  "
      ]
     },
     "execution_count": 4,
     "metadata": {},
     "output_type": "execute_result"
    }
   ],
   "source": [
    "df.head()"
   ]
  },
  {
   "cell_type": "code",
   "execution_count": 5,
   "metadata": {
    "collapsed": true
   },
   "outputs": [],
   "source": [
    "newdf = pd.concat([df['Description'],df['Is_Response']],axis=1)"
   ]
  },
  {
   "cell_type": "code",
   "execution_count": 6,
   "metadata": {},
   "outputs": [
    {
     "data": {
      "text/html": [
       "<div>\n",
       "<style>\n",
       "    .dataframe thead tr:only-child th {\n",
       "        text-align: right;\n",
       "    }\n",
       "\n",
       "    .dataframe thead th {\n",
       "        text-align: left;\n",
       "    }\n",
       "\n",
       "    .dataframe tbody tr th {\n",
       "        vertical-align: top;\n",
       "    }\n",
       "</style>\n",
       "<table border=\"1\" class=\"dataframe\">\n",
       "  <thead>\n",
       "    <tr style=\"text-align: right;\">\n",
       "      <th></th>\n",
       "      <th>Description</th>\n",
       "      <th>Is_Response</th>\n",
       "    </tr>\n",
       "  </thead>\n",
       "  <tbody>\n",
       "    <tr>\n",
       "      <th>0</th>\n",
       "      <td>The room was kind of clean but had a VERY stro...</td>\n",
       "      <td>not happy</td>\n",
       "    </tr>\n",
       "    <tr>\n",
       "      <th>1</th>\n",
       "      <td>I stayed at the Crown Plaza April -- - April -...</td>\n",
       "      <td>not happy</td>\n",
       "    </tr>\n",
       "    <tr>\n",
       "      <th>2</th>\n",
       "      <td>I booked this hotel through Hotwire at the low...</td>\n",
       "      <td>not happy</td>\n",
       "    </tr>\n",
       "    <tr>\n",
       "      <th>3</th>\n",
       "      <td>Stayed here with husband and sons on the way t...</td>\n",
       "      <td>happy</td>\n",
       "    </tr>\n",
       "    <tr>\n",
       "      <th>4</th>\n",
       "      <td>My girlfriends and I stayed here to celebrate ...</td>\n",
       "      <td>not happy</td>\n",
       "    </tr>\n",
       "  </tbody>\n",
       "</table>\n",
       "</div>"
      ],
      "text/plain": [
       "                                         Description Is_Response\n",
       "0  The room was kind of clean but had a VERY stro...   not happy\n",
       "1  I stayed at the Crown Plaza April -- - April -...   not happy\n",
       "2  I booked this hotel through Hotwire at the low...   not happy\n",
       "3  Stayed here with husband and sons on the way t...       happy\n",
       "4  My girlfriends and I stayed here to celebrate ...   not happy"
      ]
     },
     "execution_count": 6,
     "metadata": {},
     "output_type": "execute_result"
    }
   ],
   "source": [
    "newdf.head()"
   ]
  },
  {
   "cell_type": "code",
   "execution_count": 7,
   "metadata": {},
   "outputs": [
    {
     "data": {
      "text/html": [
       "<div>\n",
       "<style>\n",
       "    .dataframe thead tr:only-child th {\n",
       "        text-align: right;\n",
       "    }\n",
       "\n",
       "    .dataframe thead th {\n",
       "        text-align: left;\n",
       "    }\n",
       "\n",
       "    .dataframe tbody tr th {\n",
       "        vertical-align: top;\n",
       "    }\n",
       "</style>\n",
       "<table border=\"1\" class=\"dataframe\">\n",
       "  <thead>\n",
       "    <tr>\n",
       "      <th></th>\n",
       "      <th colspan=\"4\" halign=\"left\">Description</th>\n",
       "    </tr>\n",
       "    <tr>\n",
       "      <th></th>\n",
       "      <th>count</th>\n",
       "      <th>unique</th>\n",
       "      <th>top</th>\n",
       "      <th>freq</th>\n",
       "    </tr>\n",
       "    <tr>\n",
       "      <th>Is_Response</th>\n",
       "      <th></th>\n",
       "      <th></th>\n",
       "      <th></th>\n",
       "      <th></th>\n",
       "    </tr>\n",
       "  </thead>\n",
       "  <tbody>\n",
       "    <tr>\n",
       "      <th>happy</th>\n",
       "      <td>26521</td>\n",
       "      <td>26521</td>\n",
       "      <td>I travel extensively, and can say I my expecta...</td>\n",
       "      <td>1</td>\n",
       "    </tr>\n",
       "    <tr>\n",
       "      <th>not happy</th>\n",
       "      <td>12411</td>\n",
       "      <td>12411</td>\n",
       "      <td>I was robbed at this hotel # ---- by the clean...</td>\n",
       "      <td>1</td>\n",
       "    </tr>\n",
       "  </tbody>\n",
       "</table>\n",
       "</div>"
      ],
      "text/plain": [
       "            Description         \\\n",
       "                  count unique   \n",
       "Is_Response                      \n",
       "happy             26521  26521   \n",
       "not happy         12411  12411   \n",
       "\n",
       "                                                                     \n",
       "                                                           top freq  \n",
       "Is_Response                                                          \n",
       "happy        I travel extensively, and can say I my expecta...    1  \n",
       "not happy    I was robbed at this hotel # ---- by the clean...    1  "
      ]
     },
     "execution_count": 7,
     "metadata": {},
     "output_type": "execute_result"
    }
   ],
   "source": [
    "newdf.groupby('Is_Response').describe()"
   ]
  },
  {
   "cell_type": "code",
   "execution_count": 8,
   "metadata": {
    "collapsed": true
   },
   "outputs": [],
   "source": [
    "newdf['Length'] = newdf['Description'].apply(len)"
   ]
  },
  {
   "cell_type": "code",
   "execution_count": 9,
   "metadata": {},
   "outputs": [
    {
     "data": {
      "text/html": [
       "<div>\n",
       "<style>\n",
       "    .dataframe thead tr:only-child th {\n",
       "        text-align: right;\n",
       "    }\n",
       "\n",
       "    .dataframe thead th {\n",
       "        text-align: left;\n",
       "    }\n",
       "\n",
       "    .dataframe tbody tr th {\n",
       "        vertical-align: top;\n",
       "    }\n",
       "</style>\n",
       "<table border=\"1\" class=\"dataframe\">\n",
       "  <thead>\n",
       "    <tr style=\"text-align: right;\">\n",
       "      <th></th>\n",
       "      <th>Description</th>\n",
       "      <th>Is_Response</th>\n",
       "      <th>Length</th>\n",
       "    </tr>\n",
       "  </thead>\n",
       "  <tbody>\n",
       "    <tr>\n",
       "      <th>0</th>\n",
       "      <td>The room was kind of clean but had a VERY stro...</td>\n",
       "      <td>not happy</td>\n",
       "      <td>248</td>\n",
       "    </tr>\n",
       "    <tr>\n",
       "      <th>1</th>\n",
       "      <td>I stayed at the Crown Plaza April -- - April -...</td>\n",
       "      <td>not happy</td>\n",
       "      <td>1077</td>\n",
       "    </tr>\n",
       "    <tr>\n",
       "      <th>2</th>\n",
       "      <td>I booked this hotel through Hotwire at the low...</td>\n",
       "      <td>not happy</td>\n",
       "      <td>1327</td>\n",
       "    </tr>\n",
       "    <tr>\n",
       "      <th>3</th>\n",
       "      <td>Stayed here with husband and sons on the way t...</td>\n",
       "      <td>happy</td>\n",
       "      <td>502</td>\n",
       "    </tr>\n",
       "    <tr>\n",
       "      <th>4</th>\n",
       "      <td>My girlfriends and I stayed here to celebrate ...</td>\n",
       "      <td>not happy</td>\n",
       "      <td>1613</td>\n",
       "    </tr>\n",
       "  </tbody>\n",
       "</table>\n",
       "</div>"
      ],
      "text/plain": [
       "                                         Description Is_Response  Length\n",
       "0  The room was kind of clean but had a VERY stro...   not happy     248\n",
       "1  I stayed at the Crown Plaza April -- - April -...   not happy    1077\n",
       "2  I booked this hotel through Hotwire at the low...   not happy    1327\n",
       "3  Stayed here with husband and sons on the way t...       happy     502\n",
       "4  My girlfriends and I stayed here to celebrate ...   not happy    1613"
      ]
     },
     "execution_count": 9,
     "metadata": {},
     "output_type": "execute_result"
    }
   ],
   "source": [
    "newdf.head()"
   ]
  },
  {
   "cell_type": "code",
   "execution_count": 10,
   "metadata": {},
   "outputs": [
    {
     "data": {
      "text/plain": [
       "<matplotlib.axes._subplots.AxesSubplot at 0xca0805ea20>"
      ]
     },
     "execution_count": 10,
     "metadata": {},
     "output_type": "execute_result"
    },
    {
     "data": {
      "image/png": "[encoded data removed]",
      "text/plain": [
       "<matplotlib.figure.Figure at 0xca0805e1d0>"
      ]
     },
     "metadata": {},
     "output_type": "display_data"
    }
   ],
   "source": [
    "plt.figure(figsize=(12,8))\n",
    "newdf['Length'].plot.hist(bins=500)"
   ]
  },
  {
   "cell_type": "code",
   "execution_count": 11,
   "metadata": {},
   "outputs": [
    {
     "data": {
      "text/plain": [
       "count    38932.000000\n",
       "mean       866.276482\n",
       "std        719.255343\n",
       "min         20.000000\n",
       "25%        405.000000\n",
       "50%        676.000000\n",
       "75%       1095.000000\n",
       "max      14340.000000\n",
       "Name: Length, dtype: float64"
      ]
     },
     "execution_count": 11,
     "metadata": {},
     "output_type": "execute_result"
    }
   ],
   "source": [
    "newdf['Length'].describe()"
   ]
  },
  {
   "cell_type": "code",
   "execution_count": 12,
   "metadata": {},
   "outputs": [
    {
     "data": {
      "text/plain": [
       "'OVERVIEW: We will never stay here again or recommend this hotel to anyone. Noisy bedrooms not only from the invasive sound of people stomping about in the room above and using their bathroom......but from the bedroom air conditioning which sounds, relentlessly, like being on a jet taking off! Booked for - nights.....slept so badly due to noise we left one day early as my wife and I couldn\\'t stand it......we would have left earlier if we could have done but best hotels fully booked due to Elvis Week. It had been up to -- degrees day of our final night and we needed to use the dreadful air conditioning hence lack of sleep. This hotel must have been cheaply constructed. The River Inn hotel seemed inhospitable from the moment we arrived.........in what had been a happy mood after a fantastic stay in Nashville at a spectacular hotel.....the reception staff we encountered at River Inn can hardly be bothered to even greet arriving guests......it\\'s all business without a smile, \"\"\"\"\"\"\"\"\"\"\"\"\"\"\"\"\"\"\"\"\"\"\"\"\"\"\"\"\"\"\"\"do you have a reservation\"\"\"\"\"\"\"\"\"\"\"\"\"\"\"\"\"\"\"\"\"\"\"\"\"\"\"\"\"\"\"\". \"\"\"\"\"\"\"\"\"\"\"\"\"\"\"\"\"\"\"\"\"\"\"\"\"\"\"\"\"\"\"\"Sign this\"\"\"\"\"\"\"\"\"\"\"\"\"\"\"\"\"\"\"\"\"\"\"\"\"\"\"\"\"\"\"\".......no pleasantries or welcome whatsoever. I read on Tripadvisor about arriving guests being offered a glass of wine.....that didn\\'t happen to us, however that was probably a blessing given the poor standards we were still to encounter in the restaurant. The receptionist barely welcomed us. We said hello to her, nicely. She warmed up after receiving a tip but by then the attitude, which we later found permeates throughout (almost) all of the staff, had been displayed......perhaps she was just having a really bad day? However, from the housekeeping staff through to restaurant staff they all seemed miserable. We had a lovely drive from Nashville in our rented Cadillac Escalade.....we had previously been in Washington and Nashville this trip but it all turned sour the moment we arrived at the River Inn and stayed that way for three days.....until we escaped. They provided a slight, female receptionist to help with luggage so I lifted heavy cases out of rental car, even though I shouldn\\'t lift due to a damaged right arm for which I\\'m on medication. A member of reception staff tell me that many visitors feel they have to help with luggage given the female receptionists have to double as bell-boys. The contrast in attitude of staff at the River Inn to those at The Hermitage in Nashville (where we had just come from) couldn\\'t be greater. Arriving at River Inn reception to check-in reminded me of going to a bad UK supermarket check-out. It lacked in any form of friendly welcome. We hated our interconnecting bedrooms. Our two bathrooms were dreadful. Mainly durge-colour, painted walls and partly tiled with cheap tiles (clearly a job lot) that you might expect to encounter at an older Holiday Inn. This is supposed to be the No - hotel in Memphis according to Tripadvisor. The shower was horrible and didn\\'t function well and doubles as a bath filler, barely adjustable and hard to use. Towels were of pitiful standard. Sleeping......difficult due to a constant noise like a gale-force wind from the air conditioning. There was a choice.....suffer the appalling noise or do without air conditioning and suffer heat exhaustion from the hot, humid weather. I asked the hotel to fix the air conditioning before we retired on our first night. A lady called Rachel tried to be helpful and called the engineer at home, who knew about the problem already! So why had the management not had it fixed? How many more rooms had this fault.....surely it couldn\\'t just have been both of our two rooms out of the entire hotel? The restaurant manager then got involved. She\\'s called Beata (from Poland) and came up to our rooms to hear the noise for herself, agreeing the noise was bad but slightly less noisy in our second room, she thought. She checked the A-C controls which she pronounced were set correctly. Her solution was to offer us some free wine which she said may help get us to sleep! I declined. Perhaps they should provide sleeping tablets for guests? To suggest I consume alcohol in order to overcome the room noise was an interesting attempt at a solution and perhaps this is normal in Eastern Europe......if you can\\'t fix it......get blind drunk? However Beata has character and if she had been running the entire hotel I think it could improve. She should leave as she\\'s too good for this hotel. She is working at \"\"\"\"\"\"\"\"\"\"\"\"\"\"\"\"\"\"\"\"\"\"\"\"\"\"\"\"\"\"\"\"Fawlty Towers.\"\"\"\"\"\"\"\"\"\"\"\"\"\"\"\"\"\"\"\"\"\"\"\"\"\"\"\"\"\"\"\" We didn\\'t sleep at all well as the bedrooms need the air conditioning units replacing and this, clearly, will never happen. The engineer did what he could......resulting in no change whatsoever in the outrageous noise level. BREAKFAST -st morning: breakfast was cheap and nasty but is included in room rates so they don\\'t need to try....... and they don\\'t. We arrived at Paulettes and stood there for a few minutes, ignored. The restaurant was almost empty. Eventually the youthful restaurant manager looked at the - of us and asked how many for breakfast?..... without any greeting or smile or even a \"\"\"\"\"\"\"\"\"\"\"\"\"\"\"\"\"\"\"\"\"\"\"\"\"\"\"\"\"\"\"\"good morning.\"\"\"\"\"\"\"\"\"\"\"\"\"\"\"\"\"\"\"\"\"\"\"\"\"\"\"\"\"\"\"\" We were shown to a bad table at the rear even though many far nicer tables were empty. They then failed to produce the gluten free bread we had arranged well in advance by email for our Coeliac daughter although they did have gluten free pancake mix. (We make Gluten free breakfast arrangements by email well in advance wherever we stay at time of booking). I really don\\'t think this hotel cares about repeat business. Good hotels will usually produce freshly made carrot juice for me if not on breakfast menu on request.......no chance at the River Inn. Both of our other children left their \"\"\"\"\"\"\"\"\"\"\"\"\"\"\"\"\"\"\"\"\"\"\"\"\"\"\"\"\"\"\"\"famous\"\"\"\"\"\"\"\"\"\"\"\"\"\"\"\"\"\"\"\"\"\"\"\"\"\"\"\"\"\"\"\" breakfast pancakes after tasting them...they were horrible even though they are ridiculously described as \"\"\"\"\"\"\"\"\"\"\"\"\"\"\"\"\"\"\"\"\"\"\"\"\"\"\"\"\"\"\"\"famous\"\"\"\"\"\"\"\"\"\"\"\"\"\"\"\"\"\"\"\"\"\"\"\"\"\"\"\"\"\"\"\" on the menu. Beale Street is \"\"\"\"\"\"\"\"\"\"\"\"\"\"\"\"\"\"\"\"\"\"\"\"\"\"\"\"\"\"\"\"famous\"\"\"\"\"\"\"\"\"\"\"\"\"\"\"\"\"\"\"\"\"\"\"\"\"\"\"\"\"\"\"\".....Elvis and Gracelands is \"\"\"\"\"\"\"\"\"\"\"\"\"\"\"\"\"\"\"\"\"\"\"\"\"\"\"\"\"\"\"\"famous\"\"\"\"\"\"\"\"\"\"\"\"\"\"\"\"\"\"\"\"\"\"\"\"\"\"\"\"\"\"\"\" .......there\\'s nothing \"\"\"\"\"\"\"\"\"\"\"\"\"\"\"\"\"\"\"\"\"\"\"\"\"\"\"\"\"\"\"\"famous\"\"\"\"\"\"\"\"\"\"\"\"\"\"\"\"\"\"\"\"\"\"\"\"\"\"\"\"\"\"\"\" about the River Inn\\'s breakfast pancakes although they may eventually become infamous if they aren\\'t already. My scrambled egg on toast turned up without the toast......without anything....no garnish....just a large white plate on which there was a tiny amount of very badly scrambled egg......(possibly just one egg)......it was minuscule. Are eggs rationed in Memphis? I had asked for scrambled egg on toast with tomatoes and mushrooms and expected to receive something that at least looked appetising however I was presented with what looked like a soggy, one-egg omelette with one thin slice of tomato. That was it! Unbelievable! A desolate, large white plate with a tiny bit of food alone to one side and the toast which turned up late. I\\'ve never been served anything like this, ever, anywhere....this is \"\"\"\"\"\"\"\"\"\"\"\"\"\"\"\"\"\"\"\"\"\"\"\"\"\"\"\"\"\"\"\"Fawlty Towers\"\"\"\"\"\"\"\"\"\"\"\"\"\"\"\"\"\"\"\"\"\"\"\"\"\"\"\"\"\"\"\" .........nor did the \"\"\"\"\"\"\"\"\"\"\"\"\"\"\"\"\"\"\"\"\"\"\"\"\"\"\"\"\"\"\"\"scrambled egg\"\"\"\"\"\"\"\"\"\"\"\"\"\"\"\"\"\"\"\"\"\"\"\"\"\"\"\"\"\"\"\" even taste good and there was egg-shell in it. I asked for a cappuccino. That was ghastly but at least this was consistent. A muffin I tried with the coffee was dreadful. The reception manager interrupted our breakfast to apologise..............I made it clear we wanted the air conditioning noise repairing and I told her we didn\\'t want any reduction from our room charge......just a decent nights sleep in accomodation that is up to reasonable expectations. I explained that my family of - don\\'t fly in First Class to the USA on British Airways from the UK (which we do and had done this trip) to stay in sub-standard American hotel. I told her we booked due to her hotel being No - in Memphis on Tripadvisor and that I intended to report on our visit on Tripadvisor. On our return that night we found a note of apology from the General Manager and a gift of a bottle of vintage wine. I handed the wine back the following morning as I had no intention of accepting any gifts.......all we wanted was the standard of accomodation we had reasonably expected. Also, I won\\'t allow any hotel to get around me with free-anything, having stated my intention to review our experience on Tripadvisor. Breakfast on day two: We asked for our usual sparkling water. It didn\\'t look sparkling to me. The waiter politely assured us that it was sparkling. He was wrong. Any decent waiter should be able to tell the difference when pouring it into a glass. I invited him to try it but he declined telling me he believed me, after previously insisting the water was sparkling.....he said he would have to \"\"\"\"\"\"\"\"\"\"\"\"\"\"\"\"\"\"\"\"\"\"\"\"\"\"\"\"\"\"\"\"go upstairs\"\"\"\"\"\"\"\"\"\"\"\"\"\"\"\"\"\"\"\"\"\"\"\"\"\"\"\"\"\"\"\" to fetch the sparkling water. He told me that he\\'s usually a bartender.......I wouldn\\'t like to order a cocktail from a bartender who can\\'t tell the difference between still and sparkling water..........and they should have had sparkling water available in the first place. It turned up -- minutes later. My youngest daughter asked for smoke salmon and scrambled eggs only to be told that they don\\'t provide smoked salmon at breakfast......(just cheaper ingredients, perhaps because breakfast in this hotel is included in room rates). The general manager, Mr Karl W. Friedrich then made an appearance to personally apologise and make excuses and tell us that the air conditioning was noisy in all the rooms which \"\"\"\"\"\"\"\"\"\"\"\"\"\"\"\"\"\"\"\"\"\"\"\"\"\"\"\"\"\"\"\"were old.\"\"\"\"\"\"\"\"\"\"\"\"\"\"\"\"\"\"\"\"\"\"\"\"\"\"\"\"\"\"\"\" What rubbish! How odd as it seems quite a recently built hotel. They probably opted for the cheapest air conditioning (and bathrooms!). I told him the noise was much worse in our room (---) than in our children\\'s room (---). He nodded, saying they were individual units. This general manager looked a little dishevelled, with white stains-debris on his blue blazer. The stains didn\\'t happen to him that day as we had noticed the same white mess on his blazer when he was standing at reception the previous day. He looked a mess, just like his hotel. He reminded my wife and I of Barry Humphries.....the Les Patterson character but at least he didn\\'t spit when he talked. Perhaps he saves that for his favourite guests? Breakfast was slightly better -nd day, perhaps the chef was present? Meanwhile we had been due to dine at their Paulettes restaurant on our -nd night but after our experience at this hotel and at breakfast, we cancelled as we didn\\'t want to risk it. On our first day, the hotel concierge (there\\'s a button on room telephone that reads \"\"\"\"\"\"\"\"\"\"\"\"\"\"\"\"\"\"\"\"\"\"\"\"\"\"\"\"\"\"\"\"Concierge\"\"\"\"\"\"\"\"\"\"\"\"\"\"\"\"\"\"\"\"\"\"\"\"\"\"\"\"\"\"\"\")...... gave us an incorrect, non-existent street name for the address of the Gibson guitar factory and so we spent a few minutes trying to find a non-existent street on our car\\'s SatNav. The lady \"\"\"\"\"\"\"\"\"\"\"\"\"\"\"\"\"\"\"\"\"\"\"\"\"\"\"\"\"\"\"\"concierge\"\"\"\"\"\"\"\"\"\"\"\"\"\"\"\"\"\"\"\"\"\"\"\"\"\"\"\"\"\"\"\" also advised us, at -.--pm on our first afternoon at the hotel, that we would should just turn up for a Gibson factory tour. Wrong.....booking is highly advisable. The hotel told me that we did not need to book but should just turn up and that the factory stays open until -pm. So......we drove over from the hotel to the Gibson factory......parked in a nearby parking lot, walked into reception, only to be told that the final tour left at -pm and that our hotel concierge should have known that. I agree! We stay at the best hotels we can find everywhere we go......cost isn\\'t part of the decision as to where we stay. I just want good standards and I\\'m happy to pay for them. We always check on Tripadvisor before deciding on a hotel especially if we are visiting a new city and especially if there\\'s no Leading Hotel, or somewhere like a St Regis or a Ritz Carlton. In this case we booked River Inn hotel due to it being No - in Memphis on Tripadvisor. I\\'ve now spoken to a few people who were surprised we didn\\'t opt for the Peabody Hotel which is clearly the top Memphis hotel and yet it only comes in at Number -- on Tripadvisor. I visited The Pea body and it seems terrific.....we\\'ll stay there without a doubt next visit to Memphis. So should you. The Harbor Inn is quite dreadful......but ok for people who don\\'t understand how much better a top hotel usually is. The River Inn is poor value......I\\'m going to post photos of our hotel bathrooms when I return to the UK. They are the worst bathrooms I\\'ve seen for as long as I can remember. Luxury this isn\\'t. I checked with concierge long before arriving to find out what music shows, that may be very special, would be happening during our stay. They failed to inform us of the Elvis show (original Elvis backing musicians playing to film of Elvis, in the presence of Elvis\\'s widow and daughter). We ended up missing this exceptional one-off show at the Fed-Ex Centre as a result of this hotel\\'s useless concierge service. They don\\'t deserve to get away with using the word \"\"\"\"\"\"\"\"\"\"\"\"\"\"\"\"\"\"\"\"\"\"\"\"\"\"\"\"\"\"\"\"Concierge\"\"\"\"\"\"\"\"\"\"\"\"\"\"\"\"\"\"\"\"\"\"\"\"\"\"\"\"\"\"\"\" as they don\\'t have one and it is misleading and a mis-description. We stayed in Rooms --- and ---. The pictures of the bathrooms I will post are of those two interconnecting rooms. On our last day we met Carey.......... The only person on reception or in the hotel who seems happy and gives out a good feeling. He answers the telephone with, \"\"\"\"\"\"\"\"\"\"\"\"\"\"\"\"\"\"\"\"\"\"\"\"\"\"\"\"\"\"\"\" It\\'s a beautiful day at the River Inn. How can I help you?\"\"\"\"\"\"\"\"\"\"\"\"\"\"\"\"\"\"\"\"\"\"\"\"\"\"\"\"\"\"\"\" The best part of our stay was the moment we checked out (and visiting the Civil Rights Museum.......everyone should go and visit). Breakfast on our third day was a little better, the new waiter, Patrick, was full of Southern charm, the food improved and was better presented however they still delivered my main course forgetting my granola with berries course and the cappuccino was horrible....worst I\\'ve ever tasted. I wish I had been able to read this review before I\\'d booked the Harbor Inn. Stay anywhere else. This hotel is not good value.'"
      ]
     },
     "execution_count": 12,
     "metadata": {},
     "output_type": "execute_result"
    }
   ],
   "source": [
    "newdf[newdf['Length']==max(newdf['Length'])]['Description'].iloc[0]"
   ]
  },
  {
   "cell_type": "code",
   "execution_count": 13,
   "metadata": {},
   "outputs": [
    {
     "data": {
      "text/plain": [
       "array([<matplotlib.axes._subplots.AxesSubplot object at 0x000000CA0816CF28>,\n",
       "       <matplotlib.axes._subplots.AxesSubplot object at 0x000000CA08946CF8>], dtype=object)"
      ]
     },
     "execution_count": 13,
     "metadata": {},
     "output_type": "execute_result"
    },
    {
     "data": {
      "image/png": "[encoded data removed]",
      "text/plain": [
       "<matplotlib.figure.Figure at 0xca0bfb48d0>"
      ]
     },
     "metadata": {},
     "output_type": "display_data"
    }
   ],
   "source": [
    "newdf.hist(column='Length',by='Is_Response',bins=60,figsize=(12,4))"
   ]
  },
  {
   "cell_type": "code",
   "execution_count": 14,
   "metadata": {
    "collapsed": true
   },
   "outputs": [],
   "source": [
    "import nltk\n",
    "import string"
   ]
  },
  {
   "cell_type": "code",
   "execution_count": 15,
   "metadata": {
    "collapsed": true
   },
   "outputs": [],
   "source": [
    "from nltk.corpus import stopwords"
   ]
  },
  {
   "cell_type": "code",
   "execution_count": 16,
   "metadata": {
    "collapsed": true
   },
   "outputs": [],
   "source": [
    "def textprocess(mess):\n",
    "    nopunc = [char for char in mess if char not in string.punctuation]\n",
    "    nopunc = ''.join(nopunc)\n",
    "    return([word for word in nopunc.split() if word.lower() not in stopwords.words('english')])"
   ]
  },
  {
   "cell_type": "code",
   "execution_count": 17,
   "metadata": {},
   "outputs": [
    {
     "data": {
      "text/plain": [
       "0    [room, kind, clean, strong, smell, dogs, Gener...\n",
       "1    [stayed, Crown, Plaza, April, April, staff, fr...\n",
       "2    [booked, hotel, Hotwire, lowest, price, could,...\n",
       "3    [Stayed, husband, sons, way, Alaska, Cruise, l...\n",
       "4    [girlfriends, stayed, celebrate, th, birthdays...\n",
       "Name: Description, dtype: object"
      ]
     },
     "execution_count": 17,
     "metadata": {},
     "output_type": "execute_result"
    }
   ],
   "source": [
    "newdf['Description'].head().apply(textprocess)"
   ]
  },
  {
   "cell_type": "code",
   "execution_count": 18,
   "metadata": {
    "collapsed": true
   },
   "outputs": [],
   "source": [
    "from sklearn.feature_extraction.text import CountVectorizer"
   ]
  },
  {
   "cell_type": "code",
   "execution_count": 19,
   "metadata": {
    "collapsed": true
   },
   "outputs": [],
   "source": [
    "bow_transformer = CountVectorizer(analyzer=textprocess).fit(newdf['Description'])"
   ]
  },
  {
   "cell_type": "code",
   "execution_count": 20,
   "metadata": {},
   "outputs": [
    {
     "name": "stdout",
     "output_type": "stream",
     "text": [
      "80055\n"
     ]
    }
   ],
   "source": [
    "print(len(bow_transformer.vocabulary_))"
   ]
  },
  {
   "cell_type": "code",
   "execution_count": 21,
   "metadata": {
    "collapsed": true
   },
   "outputs": [],
   "source": [
    "desc_bow = bow_transformer.transform(newdf['Description'])"
   ]
  },
  {
   "cell_type": "code",
   "execution_count": 22,
   "metadata": {},
   "outputs": [
    {
     "name": "stdout",
     "output_type": "stream",
     "text": [
      "Shape of sparse matrix :  (38932, 80055)\n"
     ]
    }
   ],
   "source": [
    "print('Shape of sparse matrix : ',desc_bow.shape)"
   ]
  },
  {
   "cell_type": "code",
   "execution_count": 27,
   "metadata": {},
   "outputs": [],
   "source": [
    "sparsity = (100.0 * desc_bow.nnz / (desc_bow.shape[0] * desc_bow.shape[1]))"
   ]
  },
  {
   "cell_type": "code",
   "execution_count": 28,
   "metadata": {},
   "outputs": [
    {
     "name": "stdout",
     "output_type": "stream",
     "text": [
      "Sparsity : 0.08403314214336988\n"
     ]
    }
   ],
   "source": [
    "print('Sparsity : {}'.format((sparsity)))"
   ]
  },
  {
   "cell_type": "code",
   "execution_count": 29,
   "metadata": {
    "collapsed": true
   },
   "outputs": [],
   "source": [
    "from sklearn.feature_extraction.text import TfidfTransformer"
   ]
  },
  {
   "cell_type": "code",
   "execution_count": 30,
   "metadata": {
    "collapsed": true
   },
   "outputs": [],
   "source": [
    "tfid_transformer = TfidfTransformer().fit(desc_bow)"
   ]
  },
  {
   "cell_type": "code",
   "execution_count": 31,
   "metadata": {
    "collapsed": true
   },
   "outputs": [],
   "source": [
    "desc_tfidf = tfid_transformer.transform(desc_bow)"
   ]
  },
  {
   "cell_type": "code",
   "execution_count": 32,
   "metadata": {
    "collapsed": true
   },
   "outputs": [],
   "source": [
    "from sklearn.naive_bayes import MultinomialNB"
   ]
  },
  {
   "cell_type": "code",
   "execution_count": 33,
   "metadata": {
    "collapsed": true
   },
   "outputs": [],
   "source": [
    "prediction_model = MultinomialNB().fit(desc_tfidf,newdf['Is_Response'])"
   ]
  },
  {
   "cell_type": "code",
   "execution_count": 34,
   "metadata": {
    "collapsed": true
   },
   "outputs": [],
   "source": [
    "all_pred = prediction_model.predict(desc_tfidf)"
   ]
  },
  {
   "cell_type": "code",
   "execution_count": 35,
   "metadata": {
    "collapsed": true
   },
   "outputs": [],
   "source": [
    "from sklearn.model_selection import train_test_split"
   ]
  },
  {
   "cell_type": "code",
   "execution_count": 36,
   "metadata": {
    "collapsed": true
   },
   "outputs": [],
   "source": [
    "desc_train,desc_test,label_train,label_test = train_test_split(newdf['Description'],newdf['Is_Response'],test_size=0.3)"
   ]
  },
  {
   "cell_type": "code",
   "execution_count": 37,
   "metadata": {
    "collapsed": true
   },
   "outputs": [],
   "source": [
    "from sklearn.pipeline import Pipeline"
   ]
  },
  {
   "cell_type": "code",
   "execution_count": 39,
   "metadata": {},
   "outputs": [],
   "source": [
    "pipeline = Pipeline([\n",
    "    ('bow', CountVectorizer(analyzer=textprocess)),  # strings to token integer counts\n",
    "    ('tfidf', TfidfTransformer()),  # integer counts to weighted TF-IDF scores\n",
    "    ('classifier', MultinomialNB()),  # train on TF-IDF vectors w/ Naive Bayes classifier\n",
    "])"
   ]
  },
  {
   "cell_type": "code",
   "execution_count": 40,
   "metadata": {},
   "outputs": [
    {
     "data": {
      "text/plain": [
       "Pipeline(steps=[('bow', CountVectorizer(analyzer=<function textprocess at 0x000000CA0F89D7B8>,\n",
       "        binary=False, decode_error='strict', dtype=<class 'numpy.int64'>,\n",
       "        encoding='utf-8', input='content', lowercase=True, max_df=1.0,\n",
       "        max_features=None, min_df=1, ngram_range=(1, 1), preprocessor...f=False, use_idf=True)), ('classifier', MultinomialNB(alpha=1.0, class_prior=None, fit_prior=True))])"
      ]
     },
     "execution_count": 40,
     "metadata": {},
     "output_type": "execute_result"
    }
   ],
   "source": [
    "pipeline.fit(desc_train,label_train)"
   ]
  },
  {
   "cell_type": "code",
   "execution_count": 41,
   "metadata": {
    "collapsed": true
   },
   "outputs": [],
   "source": [
    "predictions = pipeline.predict(desc_test)"
   ]
  },
  {
   "cell_type": "code",
   "execution_count": 42,
   "metadata": {
    "collapsed": true
   },
   "outputs": [],
   "source": [
    "from sklearn.metrics import classification_report,confusion_matrix"
   ]
  },
  {
   "cell_type": "code",
   "execution_count": 43,
   "metadata": {},
   "outputs": [
    {
     "name": "stdout",
     "output_type": "stream",
     "text": [
      "[[7953   42]\n",
      " [2520 1165]]\n",
      "\n",
      "\n",
      "             precision    recall  f1-score   support\n",
      "\n",
      "      happy       0.76      0.99      0.86      7995\n",
      "  not happy       0.97      0.32      0.48      3685\n",
      "\n",
      "avg / total       0.82      0.78      0.74     11680\n",
      "\n"
     ]
    }
   ],
   "source": [
    "print(confusion_matrix(label_test,predictions))\n",
    "print('\\n')\n",
    "print(classification_report(label_test,predictions))"
   ]
  },
  {
   "cell_type": "code",
   "execution_count": 47,
   "metadata": {
    "collapsed": true
   },
   "outputs": [],
   "source": [
    "from sklearn.metrics import accuracy_score"
   ]
  },
  {
   "cell_type": "code",
   "execution_count": 48,
   "metadata": {},
   "outputs": [
    {
     "name": "stdout",
     "output_type": "stream",
     "text": [
      "0.780650684932\n"
     ]
    }
   ],
   "source": [
    "print(accuracy_score(label_test,predictions))"
   ]
  },
  {
   "cell_type": "code",
   "execution_count": null,
   "metadata": {
    "collapsed": true
   },
   "outputs": [],
   "source": []
  }
 ],
 "metadata": {
  "kernelspec": {
   "display_name": "Python 3",
   "language": "python",
   "name": "python3"
  },
  "language_info": {
   "codemirror_mode": {
    "name": "ipython",
    "version": 3
   },
   "file_extension": ".py",
   "mimetype": "text/x-python",
   "name": "python",
   "nbconvert_exporter": "python",
   "pygments_lexer": "ipython3",
   "version": "3.6.1"
  }
 },
 "nbformat": 4,
 "nbformat_minor": 2
}
