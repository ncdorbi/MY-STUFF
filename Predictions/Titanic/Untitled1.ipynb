{
 "cells": [
  {
   "cell_type": "code",
   "execution_count": 1,
   "metadata": {},
   "outputs": [],
   "source": [
    "import numpy as np\n",
    "import pandas as pd\n",
    "import matplotlib.pyplot as plt\n",
    "import seaborn as sns"
   ]
  },
  {
   "cell_type": "code",
   "execution_count": 2,
   "metadata": {},
   "outputs": [],
   "source": [
    "%matplotlib inline"
   ]
  },
  {
   "cell_type": "code",
   "execution_count": 3,
   "metadata": {},
   "outputs": [],
   "source": [
    "train = pd.read_csv('train.csv')"
   ]
  },
  {
   "cell_type": "code",
   "execution_count": 4,
   "metadata": {},
   "outputs": [],
   "source": [
    "def impute_age(Column):\n",
    "    Age = Column[0]\n",
    "    Pclass = Column[1]\n",
    "    \n",
    "    if pd.isnull(Age):\n",
    "        \n",
    "        if Pclass == 1:\n",
    "            return 37\n",
    "        elif Pclass == 2:\n",
    "            return 29\n",
    "        elif Pclass == 3:\n",
    "            return 24\n",
    "        \n",
    "    else:\n",
    "        return Age"
   ]
  },
  {
   "cell_type": "code",
   "execution_count": 5,
   "metadata": {},
   "outputs": [],
   "source": [
    "train['Age'] = train[['Age','Pclass']].apply(impute_age,axis=1)"
   ]
  },
  {
   "cell_type": "code",
   "execution_count": 6,
   "metadata": {},
   "outputs": [],
   "source": [
    "train['Embarked'].fillna(value = 'S',inplace=True)"
   ]
  },
  {
   "cell_type": "code",
   "execution_count": 16,
   "metadata": {},
   "outputs": [],
   "source": [
    "i=0\n",
    "x=[]\n",
    "for items in train['Name']:\n",
    "    x.append(train['Name'][i].split(' ')[1])\n",
    "    i+=1"
   ]
  },
  {
   "cell_type": "code",
   "execution_count": 20,
   "metadata": {},
   "outputs": [],
   "source": [
    "train['Name'] = pd.DataFrame(data=x)"
   ]
  },
  {
   "cell_type": "code",
   "execution_count": 22,
   "metadata": {},
   "outputs": [
    {
     "data": {
      "text/plain": [
       "0         Mr.\n",
       "1        Mrs.\n",
       "2       Miss.\n",
       "3        Mrs.\n",
       "4         Mr.\n",
       "5         Mr.\n",
       "6         Mr.\n",
       "7     Master.\n",
       "8        Mrs.\n",
       "9        Mrs.\n",
       "10      Miss.\n",
       "11      Miss.\n",
       "12        Mr.\n",
       "13        Mr.\n",
       "14      Miss.\n",
       "15       Mrs.\n",
       "16    Master.\n",
       "17        Mr.\n",
       "18    Planke,\n",
       "19       Mrs.\n",
       "20        Mr.\n",
       "21        Mr.\n",
       "22      Miss.\n",
       "23        Mr.\n",
       "24      Miss.\n",
       "25       Mrs.\n",
       "26        Mr.\n",
       "27        Mr.\n",
       "28      Miss.\n",
       "29        Mr.\n",
       "Name: Name, dtype: object"
      ]
     },
     "execution_count": 22,
     "metadata": {},
     "output_type": "execute_result"
    }
   ],
   "source": []
  },
  {
   "cell_type": "code",
   "execution_count": null,
   "metadata": {},
   "outputs": [],
   "source": [
    "from sklearn import preprocessing\n",
    "le = preprocessing.LabelEncoder()\n",
    "df = pd.concat([train_df,test_df])\n",
    "le = le.fit(df['Sex'])\n",
    "train_df['Sex'] = le.transform(train_df['Sex'])\n",
    "test_df['Sex'] = le.transform(test_df['Sex'])\n",
    "le = le.fit(df['Embarked'])\n",
    "train_df['Embarked'] = le.transform(train_df['Embarked'])\n",
    "test_df['Embarked'] = le.transform(test_df['Embarked'])\n",
    "train_df.head()"
   ]
  }
 ],
 "metadata": {
  "kernelspec": {
   "display_name": "Python 3",
   "language": "python",
   "name": "python3"
  },
  "language_info": {
   "codemirror_mode": {
    "name": "ipython",
    "version": 3
   },
   "file_extension": ".py",
   "mimetype": "text/x-python",
   "name": "python",
   "nbconvert_exporter": "python",
   "pygments_lexer": "ipython3",
   "version": "3.6.4"
  }
 },
 "nbformat": 4,
 "nbformat_minor": 2
}
